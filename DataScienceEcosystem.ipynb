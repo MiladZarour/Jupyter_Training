{
 "cells": [
  {
   "cell_type": "markdown",
   "id": "ab314b23-2852-407e-b59d-618a07e7669f",
   "metadata": {
    "tags": []
   },
   "source": [
    "# Data Science Tools and Ecosystem"
   ]
  },
  {
   "cell_type": "markdown",
   "id": "e7f9f839-d703-49ed-b810-aa74935000b0",
   "metadata": {},
   "source": [
    "In this notebook, Data Science Tools and Ecosystem are summarized."
   ]
  },
  {
   "cell_type": "markdown",
   "id": "8a204d70-e7bf-4109-a88e-bbbc8d5a940a",
   "metadata": {},
   "source": [
    "Some of the popular languages that Data Scientists use are:\n",
    "\n",
    "1. Python\n",
    "2. R\n",
    "3. SQL"
   ]
  },
  {
   "cell_type": "markdown",
   "id": "91ffa084-aae3-4a69-ba14-03b8c52d5d34",
   "metadata": {
    "tags": []
   },
   "source": [
    "Some of the commonly used libraries used by Data Scientists include:\n",
    "<style>\n",
    "table {margin-left: 0 !important;}\n",
    "</style>\n",
    "1. Pandas\n",
    "2. NumPy\n",
    "3. Scikit-Learn"
   ]
  },
  {
   "cell_type": "markdown",
   "id": "d0b87514-e194-4b7b-b3ac-b86076ebafef",
   "metadata": {},
   "source": [
    "| Data Science Tools   |\n",
    "|----------------------|\n",
    "| Jupyter Notebooks    |\n",
    "| RStudio              |\n",
    "| Apache Zeppelin      |\n"
   ]
  },
  {
   "cell_type": "markdown",
   "id": "fdfedaf8-9374-4d77-bc63-0f6a4e292845",
   "metadata": {},
   "source": [
    "### Below are a few examples of evaluating arithmetic expressions in Python"
   ]
  },
  {
   "cell_type": "code",
   "execution_count": 3,
   "id": "5057b157-9e92-40d8-a9a0-78c2256006ee",
   "metadata": {
    "tags": []
   },
   "outputs": [
    {
     "name": "stdout",
     "output_type": "stream",
     "text": [
      "17\n"
     ]
    }
   ],
   "source": [
    "# This a simple arithmetic expression to multiply then add integers\n",
    "result = (3*4) + 5\n",
    "print(result)"
   ]
  },
  {
   "cell_type": "code",
   "execution_count": 5,
   "id": "7395282c-0290-45c3-8851-f15ef829c020",
   "metadata": {
    "tags": []
   },
   "outputs": [
    {
     "name": "stdout",
     "output_type": "stream",
     "text": [
      "3.3333333333333335\n"
     ]
    }
   ],
   "source": [
    "# This will convert 200 minutes to hours by dividing by 60\n",
    "hours = 200 / 60\n",
    "print(hours)"
   ]
  },
  {
   "cell_type": "markdown",
   "id": "2597d7d9-e20e-413a-a5c8-ced74bb82559",
   "metadata": {},
   "source": [
    "**Objectives:**\n",
    "\n",
    "- Understand the basics of Markdown in Jupyter Notebooks.\n",
    "- Learn how to create and format text in a notebook.\n",
    "- Explore how to insert images and create lists.\n",
    "- Get familiar with code cells and how to execute them.\n",
    "- Practice taking screenshots of notebook cells.\n"
   ]
  },
  {
   "cell_type": "markdown",
   "id": "fc224627-1b7a-4972-b528-2265d631555a",
   "metadata": {},
   "source": [
    "## Author\n",
    "Milad Zarour"
   ]
  }
 ],
 "metadata": {
  "kernelspec": {
   "display_name": "Python",
   "language": "python",
   "name": "conda-env-python-py"
  },
  "language_info": {
   "codemirror_mode": {
    "name": "ipython",
    "version": 3
   },
   "file_extension": ".py",
   "mimetype": "text/x-python",
   "name": "python",
   "nbconvert_exporter": "python",
   "pygments_lexer": "ipython3",
   "version": "3.7.12"
  }
 },
 "nbformat": 4,
 "nbformat_minor": 5
}
